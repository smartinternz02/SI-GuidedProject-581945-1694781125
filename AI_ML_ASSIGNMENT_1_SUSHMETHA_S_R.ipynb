{
  "nbformat": 4,
  "nbformat_minor": 0,
  "metadata": {
    "colab": {
      "provenance": []
    },
    "kernelspec": {
      "name": "python3",
      "display_name": "Python 3"
    },
    "language_info": {
      "name": "python"
    }
  },
  "cells": [
    {
      "cell_type": "code",
      "execution_count": 1,
      "metadata": {
        "id": "pmlF_HovrdJR"
      },
      "outputs": [],
      "source": [
        "import pandas as pd\n",
        "import numpy as np"
      ]
    },
    {
      "cell_type": "code",
      "source": [
        "dict = {\"Roll number:\": [11, 22, 33, 44],\n",
        "        \"Student\": [\"Arnav\", \"Neha\",\n",
        "                    \"Priya\", \"Rahul\"],\n",
        "        \"Marks\": [85, 92, 78, 83],\n",
        "        \"Sports\": [\"Cricket\", \"Volleyball\",\n",
        "                   \"Hockey\", \"Badminton\"]}"
      ],
      "metadata": {
        "id": "8lsBr79Vrivy"
      },
      "execution_count": 2,
      "outputs": []
    },
    {
      "cell_type": "code",
      "source": [
        "df = pd.DataFrame(dict)"
      ],
      "metadata": {
        "id": "3YUm8ILkvnck"
      },
      "execution_count": 5,
      "outputs": []
    },
    {
      "cell_type": "code",
      "source": [
        "df.rename(columns={\n",
        "    'Roll number': 'Random value 1',\n",
        "    'Student': 'Random value 2',\n",
        "    'Marks': 'Random value 3',\n",
        "    'Sports': 'Random value 4'\n",
        "}, inplace=True)"
      ],
      "metadata": {
        "id": "enjNs-kMvnkU"
      },
      "execution_count": 6,
      "outputs": []
    },
    {
      "cell_type": "code",
      "source": [
        "random_value_2_3_loc = df.loc[:, ['Random value 2', 'Random value 3']]\n",
        "print(\"Using loc:\\n\", random_value_2_3_loc)"
      ],
      "metadata": {
        "colab": {
          "base_uri": "https://localhost:8080/"
        },
        "id": "J6bMbS3UwDFX",
        "outputId": "898b8174-e4e2-41b6-85de-d2f334bfe7f5"
      },
      "execution_count": 7,
      "outputs": [
        {
          "output_type": "stream",
          "name": "stdout",
          "text": [
            "Using loc:\n",
            "   Random value 2  Random value 3\n",
            "0          Arnav              85\n",
            "1           Neha              92\n",
            "2          Priya              78\n",
            "3          Rahul              83\n"
          ]
        }
      ]
    },
    {
      "cell_type": "code",
      "source": [
        "random_value_2_3_iloc = df.iloc[:, [1, 2]]\n",
        "print(\"\\nUsing iloc:\\n\", random_value_2_3_iloc)"
      ],
      "metadata": {
        "colab": {
          "base_uri": "https://localhost:8080/"
        },
        "id": "N5vzHiNXwJU1",
        "outputId": "17b82f1d-4ec2-4518-83e4-d0bc45fde243"
      },
      "execution_count": 8,
      "outputs": [
        {
          "output_type": "stream",
          "name": "stdout",
          "text": [
            "\n",
            "Using iloc:\n",
            "   Random value 2  Random value 3\n",
            "0          Arnav              85\n",
            "1           Neha              92\n",
            "2          Priya              78\n",
            "3          Rahul              83\n"
          ]
        }
      ]
    }
  ]
}